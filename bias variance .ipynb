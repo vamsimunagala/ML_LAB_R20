{
 "cells": [
  {
   "cell_type": "code",
   "execution_count": 1,
   "id": "d4930731-f304-4622-9107-e55e3d2489eb",
   "metadata": {},
   "outputs": [
    {
     "name": "stdout",
     "output_type": "stream",
     "text": [
      "Requirement already satisfied: mlxtend in c:\\users\\munagala vamsi\\anaconda3\\lib\\site-packages (0.23.1)\n",
      "Requirement already satisfied: scipy>=1.2.1 in c:\\users\\munagala vamsi\\anaconda3\\lib\\site-packages (from mlxtend) (1.11.4)\n",
      "Requirement already satisfied: numpy>=1.16.2 in c:\\users\\munagala vamsi\\anaconda3\\lib\\site-packages (from mlxtend) (1.26.4)\n",
      "Requirement already satisfied: pandas>=0.24.2 in c:\\users\\munagala vamsi\\anaconda3\\lib\\site-packages (from mlxtend) (2.1.4)\n",
      "Requirement already satisfied: scikit-learn>=1.0.2 in c:\\users\\munagala vamsi\\anaconda3\\lib\\site-packages (from mlxtend) (1.2.2)\n",
      "Requirement already satisfied: matplotlib>=3.0.0 in c:\\users\\munagala vamsi\\anaconda3\\lib\\site-packages (from mlxtend) (3.8.0)\n",
      "Requirement already satisfied: joblib>=0.13.2 in c:\\users\\munagala vamsi\\anaconda3\\lib\\site-packages (from mlxtend) (1.2.0)\n",
      "Requirement already satisfied: contourpy>=1.0.1 in c:\\users\\munagala vamsi\\anaconda3\\lib\\site-packages (from matplotlib>=3.0.0->mlxtend) (1.2.0)\n",
      "Requirement already satisfied: cycler>=0.10 in c:\\users\\munagala vamsi\\anaconda3\\lib\\site-packages (from matplotlib>=3.0.0->mlxtend) (0.11.0)\n",
      "Requirement already satisfied: fonttools>=4.22.0 in c:\\users\\munagala vamsi\\anaconda3\\lib\\site-packages (from matplotlib>=3.0.0->mlxtend) (4.25.0)\n",
      "Requirement already satisfied: kiwisolver>=1.0.1 in c:\\users\\munagala vamsi\\anaconda3\\lib\\site-packages (from matplotlib>=3.0.0->mlxtend) (1.4.4)\n",
      "Requirement already satisfied: packaging>=20.0 in c:\\users\\munagala vamsi\\appdata\\roaming\\python\\python311\\site-packages (from matplotlib>=3.0.0->mlxtend) (24.0)\n",
      "Requirement already satisfied: pillow>=6.2.0 in c:\\users\\munagala vamsi\\anaconda3\\lib\\site-packages (from matplotlib>=3.0.0->mlxtend) (10.2.0)\n",
      "Requirement already satisfied: pyparsing>=2.3.1 in c:\\users\\munagala vamsi\\anaconda3\\lib\\site-packages (from matplotlib>=3.0.0->mlxtend) (3.0.9)\n",
      "Requirement already satisfied: python-dateutil>=2.7 in c:\\users\\munagala vamsi\\appdata\\roaming\\python\\python311\\site-packages (from matplotlib>=3.0.0->mlxtend) (2.9.0.post0)\n",
      "Requirement already satisfied: pytz>=2020.1 in c:\\users\\munagala vamsi\\anaconda3\\lib\\site-packages (from pandas>=0.24.2->mlxtend) (2023.3.post1)\n",
      "Requirement already satisfied: tzdata>=2022.1 in c:\\users\\munagala vamsi\\anaconda3\\lib\\site-packages (from pandas>=0.24.2->mlxtend) (2023.3)\n",
      "Requirement already satisfied: threadpoolctl>=2.0.0 in c:\\users\\munagala vamsi\\anaconda3\\lib\\site-packages (from scikit-learn>=1.0.2->mlxtend) (2.2.0)\n",
      "Requirement already satisfied: six>=1.5 in c:\\users\\munagala vamsi\\appdata\\roaming\\python\\python311\\site-packages (from python-dateutil>=2.7->matplotlib>=3.0.0->mlxtend) (1.16.0)\n",
      "Note: you may need to restart the kernel to use updated packages.\n"
     ]
    }
   ],
   "source": [
    "pip install mlxtend"
   ]
  },
  {
   "cell_type": "code",
   "execution_count": 2,
   "id": "49234931-46e6-4b46-9485-988e3ff822c2",
   "metadata": {},
   "outputs": [],
   "source": [
    "import numpy as np\n",
    "from sklearn.datasets import fetch_california_housing\n",
    "from mlxtend.evaluate import bias_variance_decomp\n",
    "from sklearn.linear_model import LinearRegression\n",
    "from sklearn.model_selection import train_test_split"
   ]
  },
  {
   "cell_type": "code",
   "execution_count": 3,
   "id": "10ae24b6-2b04-4c83-b4a4-bc281606ae66",
   "metadata": {},
   "outputs": [],
   "source": [
    "from sklearn import metrics"
   ]
  },
  {
   "cell_type": "code",
   "execution_count": 4,
   "id": "e3f5fd74-2535-4ef1-a03c-53c5e97950df",
   "metadata": {},
   "outputs": [],
   "source": [
    "data=fetch_california_housing(as_frame=True)"
   ]
  },
  {
   "cell_type": "code",
   "execution_count": 5,
   "id": "2aceaa5f-4f52-425b-bc79-21fcec9fe428",
   "metadata": {},
   "outputs": [],
   "source": [
    "x=data.data\n",
    "y=data.target"
   ]
  },
  {
   "cell_type": "code",
   "execution_count": 6,
   "id": "8df96383-f944-4f42-b4da-4caaf662f234",
   "metadata": {},
   "outputs": [],
   "source": [
    "x_test,x_train,y_test,y_train=train_test_split(x,y,test_size=0.2,random_state=42)"
   ]
  },
  {
   "cell_type": "code",
   "execution_count": 7,
   "id": "e1fc2afe-f7f6-4c51-b3ac-50b5b3bd60b1",
   "metadata": {},
   "outputs": [],
   "source": [
    "x_train=x_train.values\n",
    "y_train=y_train.values\n",
    "x_test=x_test.values\n",
    "y_test=y_test.values"
   ]
  },
  {
   "cell_type": "code",
   "execution_count": 8,
   "id": "885df9c9-2071-4271-8e9b-a719900ac76b",
   "metadata": {},
   "outputs": [],
   "source": [
    "model=LinearRegression()\n"
   ]
  },
  {
   "cell_type": "code",
   "execution_count": 9,
   "id": "89be5b80-121e-4f08-ae78-577de6a6d789",
   "metadata": {},
   "outputs": [],
   "source": [
    "mse, bias, variance = bias_variance_decomp(model, x_train, y_train, x_test, y_test, loss='mse', num_rounds=200, random_seed=123)"
   ]
  },
  {
   "cell_type": "code",
   "execution_count": 10,
   "id": "8c345cb1-d316-4a24-a1ce-6c9a623fd5c2",
   "metadata": {},
   "outputs": [
    {
     "data": {
      "text/plain": [
       "3.5037625070681573"
      ]
     },
     "execution_count": 10,
     "metadata": {},
     "output_type": "execute_result"
    }
   ],
   "source": [
    "mse"
   ]
  },
  {
   "cell_type": "code",
   "execution_count": 11,
   "id": "33193241-3034-4431-ba75-51384ee8fb6e",
   "metadata": {},
   "outputs": [
    {
     "data": {
      "text/plain": [
       "2.1376959943903793"
      ]
     },
     "execution_count": 11,
     "metadata": {},
     "output_type": "execute_result"
    }
   ],
   "source": [
    "bias"
   ]
  },
  {
   "cell_type": "code",
   "execution_count": 12,
   "id": "45b5bb87-f915-477b-ae5e-636407c58cd1",
   "metadata": {},
   "outputs": [
    {
     "data": {
      "text/plain": [
       "1.3660665126777771"
      ]
     },
     "execution_count": 12,
     "metadata": {},
     "output_type": "execute_result"
    }
   ],
   "source": [
    "variance"
   ]
  },
  {
   "cell_type": "code",
   "execution_count": 13,
   "id": "05674f5f-f4ca-4c05-86c9-e47e957b174e",
   "metadata": {},
   "outputs": [],
   "source": [
    "y_pred=model.predict(x_test)"
   ]
  },
  {
   "cell_type": "code",
   "execution_count": 14,
   "id": "50512288-5a10-4c58-9e69-f57bf23beb8a",
   "metadata": {},
   "outputs": [
    {
     "name": "stdout",
     "output_type": "stream",
     "text": [
      "mse from bias-variance lib[avg expected loss]: 3.503763\n"
     ]
    }
   ],
   "source": [
    "print(\"mse from bias-variance lib[avg expected loss]: %3f\" % mse)\n"
   ]
  },
  {
   "cell_type": "code",
   "execution_count": 15,
   "id": "1d5804b6-e323-4446-b742-194391428134",
   "metadata": {},
   "outputs": [
    {
     "data": {
      "text/plain": [
       "1.8130796265726565"
      ]
     },
     "execution_count": 15,
     "metadata": {},
     "output_type": "execute_result"
    }
   ],
   "source": [
    "from sklearn.metrics import mean_squared_error\n",
    "\n",
    "demo=mean_squared_error(y_test,y_pred)\n",
    "demo"
   ]
  }
 ],
 "metadata": {
  "kernelspec": {
   "display_name": "Python 3 (ipykernel)",
   "language": "python",
   "name": "python3"
  },
  "language_info": {
   "codemirror_mode": {
    "name": "ipython",
    "version": 3
   },
   "file_extension": ".py",
   "mimetype": "text/x-python",
   "name": "python",
   "nbconvert_exporter": "python",
   "pygments_lexer": "ipython3",
   "version": "3.11.7"
  }
 },
 "nbformat": 4,
 "nbformat_minor": 5
}
